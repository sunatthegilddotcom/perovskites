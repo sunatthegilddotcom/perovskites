{
  "nbformat": 4,
  "nbformat_minor": 0,
  "metadata": {
    "colab": {
      "name": "data_loading_example",
      "provenance": [],
      "collapsed_sections": [],
      "authorship_tag": "ABX9TyND4h73DmHB6p1D0vJJd5Jd",
      "include_colab_link": true
    },
    "kernelspec": {
      "name": "python3",
      "display_name": "Python 3"
    }
  },
  "cells": [
    {
      "cell_type": "markdown",
      "metadata": {
        "id": "view-in-github",
        "colab_type": "text"
      },
      "source": [
        "<a href=\"https://colab.research.google.com/github/afarley9/perovskites/blob/main/data_loading_example.ipynb\" target=\"_parent\"><img src=\"https://colab.research.google.com/assets/colab-badge.svg\" alt=\"Open In Colab\"/></a>"
      ]
    },
    {
      "cell_type": "markdown",
      "metadata": {
        "id": "4R0o46GwOkeY"
      },
      "source": [
        "### This notebook is an example of how our data is being loaded from the Google Shared Drive by the team members. Note that the training data is available only to the members to the team.\r\n",
        "\r\n",
        "This is how Google colab's `mount` is being used to read data directly from the drive without downloading or uploading. By directly routing data to the Colab's virtual machine, we will be able stream line it directly into the neural network being built by other team folks.\r\n",
        "\r\n"
      ]
    },
    {
      "cell_type": "code",
      "metadata": {
        "id": "PXgsvUPoJQxE",
        "colab": {
          "base_uri": "https://localhost:8080/"
        },
        "outputId": "f5a5da61-8de2-4701-e1bf-db81b9b6da82"
      },
      "source": [
        "from google.colab import drive\r\n",
        "import numpy as np\r\n",
        "import pandas as pd\r\n",
        "import matplotlib.pyplot as plt\r\n",
        "\r\n",
        "\r\n",
        "\r\n",
        "drive.mount('/content/drive/')"
      ],
      "execution_count": null,
      "outputs": [
        {
          "output_type": "stream",
          "text": [
            "Mounted at /content/drive/\n"
          ],
          "name": "stdout"
        }
      ]
    },
    {
      "cell_type": "markdown",
      "metadata": {
        "id": "Imz_GmarPQW7"
      },
      "source": [
        "All the paths to the relevant images and the corresponding experimental metadata are stored in a master csv file which lists details of **1,257 individual degradation experiments**. So this study is going to be done on a well-documented and experimentally collected dataset. But, the challenge is that since the data is experimentally collected and is prone to human-induced and other irreducible noise, it is required to undergo an extensive data-cleaning process to get reliable results."
      ]
    },
    {
      "cell_type": "code",
      "metadata": {
        "id": "WaeEGc6dLzIn"
      },
      "source": [
        "meta_df = pd.read_csv('drive/Shareddrives/Perovskites_DIRECT/features_meta_filtered.csv',\r\n",
        "                      index_col=0, header=[0,1])"
      ],
      "execution_count": null,
      "outputs": []
    },
    {
      "cell_type": "code",
      "metadata": {
        "colab": {
          "base_uri": "https://localhost:8080/"
        },
        "id": "RwSXJGqTR3Yo",
        "outputId": "52962df9-e8fb-409d-c1e9-18e6e45ed5b6"
      },
      "source": [
        ""
      ],
      "execution_count": null,
      "outputs": [
        {
          "output_type": "execute_result",
          "data": {
            "text/plain": [
              "MultiIndex([(            'T',             'T'),\n",
              "            (           'RH',            'RH'),\n",
              "            (    'probeSuns',     'probeSuns'),\n",
              "            (           'N2',            'N2'),\n",
              "            (           'O2',            'O2'),\n",
              "            (     'soakSuns',      'soakSuns'),\n",
              "            (          'air',           'air'),\n",
              "            ('Encapsulation', 'Encapsulation'),\n",
              "            (  'nGradPoints',   'nGradPoints'),\n",
              "            (   'nGradients',    'nGradients'),\n",
              "            ( 'ExperimentID',  'ExperimentID'),\n",
              "            (      'ClassID',       'ClassID'),\n",
              "            (   'camera_FOV',    'camera_FOV'),\n",
              "            (  'is_gradient',   'is_gradient'),\n",
              "            (     'SampleID',      'SampleID'),\n",
              "            (       'A_comp',            'MA'),\n",
              "            (       'A_comp',            'FA'),\n",
              "            (       'A_comp',            'Cs'),\n",
              "            (       'A_comp',            'Rb'),\n",
              "            (       'A_comp',           'PEA'),\n",
              "            (       'B_comp',            'Pb'),\n",
              "            (       'B_comp',            'Sn'),\n",
              "            (       'X_comp',             'I'),\n",
              "            (       'X_comp',            'Br')],\n",
              "           names=['ion_site', 'ion_type'])"
            ]
          },
          "metadata": {
            "tags": []
          },
          "execution_count": 7
        }
      ]
    },
    {
      "cell_type": "code",
      "metadata": {
        "id": "MbgbDXuYMudc"
      },
      "source": [
        "drive.flush_and_unmount()"
      ],
      "execution_count": null,
      "outputs": []
    }
  ]
}