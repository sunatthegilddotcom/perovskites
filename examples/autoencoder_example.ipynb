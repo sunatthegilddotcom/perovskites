{
  "nbformat": 4,
  "nbformat_minor": 0,
  "metadata": {
    "colab": {
      "name": "autoencoder_example.ipynb",
      "provenance": [],
      "collapsed_sections": []
    },
    "kernelspec": {
      "name": "python3",
      "display_name": "Python 3"
    },
    "accelerator": "TPU"
  },
  "cells": [
    {
      "cell_type": "markdown",
      "metadata": {
        "id": "9-WygirYeSpy"
      },
      "source": [
        "# Autoencoder Example Notebook"
      ]
    },
    {
      "cell_type": "code",
      "metadata": {
        "colab": {
          "base_uri": "https://localhost:8080/"
        },
        "id": "r9dCKFeM3tmY",
        "outputId": "7fa165e2-bafa-405c-9824-9de999e70723"
      },
      "source": [
        "from google.colab import drive\n",
        "import numpy as np\n",
        "import pandas as pd\n",
        "import matplotlib.pyplot as plt\n",
        "import os\n",
        "import sys\n",
        "import pickle\n",
        "import shutil\n",
        "\n",
        "import tensorflow as tf\n",
        "from tensorflow.keras import layers, Sequential\n",
        "from keras.models import load_model\n",
        "from sklearn.model_selection import LeaveOneOut, KFold\n",
        "from sklearn.utils import resample\n",
        "from scipy.cluster.vq import kmeans2, whiten\n",
        "from sklearn.decomposition import PCA\n",
        "\n",
        "\n",
        "# Mount the drive and clone the github repo\n",
        "drive.mount('/content/drive/')\n",
        "!git clone https://github.com/afarley9/perovskites.git\n",
        "\n",
        "# Import modules from the github repo\n",
        "sys.path.append(\"/content/perovskites/perovskites\")\n",
        "import utils.image_processing as impr\n",
        "import utils.image_loader as loader\n",
        "import utils.miscellaneous as misc\n",
        "from utils.autoencoder_to_encoder import autoencoder\n",
        "\n",
        "MODEL_LOG_FOLDER = \"drive/Shareddrives/Perovskites_DIRECT/models\"\n",
        "MODEL_INFO = loader.MODEL_INFO\n",
        "final_img_size = MODEL_INFO['target_image_size_pix']"
      ],
      "execution_count": 1,
      "outputs": [
        {
          "output_type": "stream",
          "text": [
            "Mounted at /content/drive/\n",
            "Cloning into 'perovskites'...\n",
            "remote: Enumerating objects: 367, done.\u001b[K\n",
            "remote: Counting objects: 100% (367/367), done.\u001b[K\n",
            "remote: Compressing objects: 100% (251/251), done.\u001b[K\n",
            "remote: Total 1149 (delta 257), reused 212 (delta 116), pack-reused 782\u001b[K\n",
            "Receiving objects: 100% (1149/1149), 23.00 MiB | 25.82 MiB/s, done.\n",
            "Resolving deltas: 100% (709/709), done.\n"
          ],
          "name": "stdout"
        }
      ]
    },
    {
      "cell_type": "markdown",
      "metadata": {
        "id": "wBmIGjDJYQ_i"
      },
      "source": [
        "To run on TPU go to `Runtime > Change Runtime Type > TPU`"
      ]
    },
    {
      "cell_type": "code",
      "metadata": {
        "id": "GWKK5XGXEBWX",
        "colab": {
          "base_uri": "https://localhost:8080/"
        },
        "outputId": "c3f558d7-8580-43f6-f837-79bceb9b2ccd"
      },
      "source": [
        "%tensorflow_version 2.x\n",
        "import tensorflow as tf\n",
        "print(\"Tensorflow version \" + tf.__version__)\n",
        "\n",
        "try:\n",
        "  tpu = tf.distribute.cluster_resolver.TPUClusterResolver()  # TPU detection\n",
        "  print('Running on TPU ', tpu.cluster_spec().as_dict()['worker'])\n",
        "except ValueError:\n",
        "  raise BaseException('ERROR: Not connected to a TPU runtime; please see the previous cell in this notebook for instructions!')\n",
        "\n",
        "tf.config.experimental_connect_to_cluster(tpu)\n",
        "tf.tpu.experimental.initialize_tpu_system(tpu)\n",
        "tpu_strategy = tf.distribute.TPUStrategy(tpu)"
      ],
      "execution_count": 2,
      "outputs": [
        {
          "output_type": "stream",
          "text": [
            "Tensorflow version 2.4.1\n",
            "Running on TPU  ['10.43.169.242:8470']\n",
            "INFO:tensorflow:Initializing the TPU system: grpc://10.43.169.242:8470\n"
          ],
          "name": "stdout"
        },
        {
          "output_type": "stream",
          "text": [
            "INFO:tensorflow:Initializing the TPU system: grpc://10.43.169.242:8470\n"
          ],
          "name": "stderr"
        },
        {
          "output_type": "stream",
          "text": [
            "INFO:tensorflow:Clearing out eager caches\n"
          ],
          "name": "stdout"
        },
        {
          "output_type": "stream",
          "text": [
            "INFO:tensorflow:Clearing out eager caches\n"
          ],
          "name": "stderr"
        },
        {
          "output_type": "stream",
          "text": [
            "INFO:tensorflow:Finished initializing TPU system.\n"
          ],
          "name": "stdout"
        },
        {
          "output_type": "stream",
          "text": [
            "INFO:tensorflow:Finished initializing TPU system.\n"
          ],
          "name": "stderr"
        },
        {
          "output_type": "stream",
          "text": [
            "INFO:tensorflow:Found TPU system:\n"
          ],
          "name": "stdout"
        },
        {
          "output_type": "stream",
          "text": [
            "INFO:tensorflow:Found TPU system:\n"
          ],
          "name": "stderr"
        },
        {
          "output_type": "stream",
          "text": [
            "INFO:tensorflow:*** Num TPU Cores: 8\n"
          ],
          "name": "stdout"
        },
        {
          "output_type": "stream",
          "text": [
            "INFO:tensorflow:*** Num TPU Cores: 8\n"
          ],
          "name": "stderr"
        },
        {
          "output_type": "stream",
          "text": [
            "INFO:tensorflow:*** Num TPU Workers: 1\n"
          ],
          "name": "stdout"
        },
        {
          "output_type": "stream",
          "text": [
            "INFO:tensorflow:*** Num TPU Workers: 1\n"
          ],
          "name": "stderr"
        },
        {
          "output_type": "stream",
          "text": [
            "INFO:tensorflow:*** Num TPU Cores Per Worker: 8\n"
          ],
          "name": "stdout"
        },
        {
          "output_type": "stream",
          "text": [
            "INFO:tensorflow:*** Num TPU Cores Per Worker: 8\n"
          ],
          "name": "stderr"
        },
        {
          "output_type": "stream",
          "text": [
            "INFO:tensorflow:*** Available Device: _DeviceAttributes(/job:localhost/replica:0/task:0/device:CPU:0, CPU, 0, 0)\n"
          ],
          "name": "stdout"
        },
        {
          "output_type": "stream",
          "text": [
            "INFO:tensorflow:*** Available Device: _DeviceAttributes(/job:localhost/replica:0/task:0/device:CPU:0, CPU, 0, 0)\n"
          ],
          "name": "stderr"
        },
        {
          "output_type": "stream",
          "text": [
            "INFO:tensorflow:*** Available Device: _DeviceAttributes(/job:worker/replica:0/task:0/device:CPU:0, CPU, 0, 0)\n"
          ],
          "name": "stdout"
        },
        {
          "output_type": "stream",
          "text": [
            "INFO:tensorflow:*** Available Device: _DeviceAttributes(/job:worker/replica:0/task:0/device:CPU:0, CPU, 0, 0)\n"
          ],
          "name": "stderr"
        },
        {
          "output_type": "stream",
          "text": [
            "INFO:tensorflow:*** Available Device: _DeviceAttributes(/job:worker/replica:0/task:0/device:TPU:0, TPU, 0, 0)\n"
          ],
          "name": "stdout"
        },
        {
          "output_type": "stream",
          "text": [
            "INFO:tensorflow:*** Available Device: _DeviceAttributes(/job:worker/replica:0/task:0/device:TPU:0, TPU, 0, 0)\n"
          ],
          "name": "stderr"
        },
        {
          "output_type": "stream",
          "text": [
            "INFO:tensorflow:*** Available Device: _DeviceAttributes(/job:worker/replica:0/task:0/device:TPU:1, TPU, 0, 0)\n"
          ],
          "name": "stdout"
        },
        {
          "output_type": "stream",
          "text": [
            "INFO:tensorflow:*** Available Device: _DeviceAttributes(/job:worker/replica:0/task:0/device:TPU:1, TPU, 0, 0)\n"
          ],
          "name": "stderr"
        },
        {
          "output_type": "stream",
          "text": [
            "INFO:tensorflow:*** Available Device: _DeviceAttributes(/job:worker/replica:0/task:0/device:TPU:2, TPU, 0, 0)\n"
          ],
          "name": "stdout"
        },
        {
          "output_type": "stream",
          "text": [
            "INFO:tensorflow:*** Available Device: _DeviceAttributes(/job:worker/replica:0/task:0/device:TPU:2, TPU, 0, 0)\n"
          ],
          "name": "stderr"
        },
        {
          "output_type": "stream",
          "text": [
            "INFO:tensorflow:*** Available Device: _DeviceAttributes(/job:worker/replica:0/task:0/device:TPU:3, TPU, 0, 0)\n"
          ],
          "name": "stdout"
        },
        {
          "output_type": "stream",
          "text": [
            "INFO:tensorflow:*** Available Device: _DeviceAttributes(/job:worker/replica:0/task:0/device:TPU:3, TPU, 0, 0)\n"
          ],
          "name": "stderr"
        },
        {
          "output_type": "stream",
          "text": [
            "INFO:tensorflow:*** Available Device: _DeviceAttributes(/job:worker/replica:0/task:0/device:TPU:4, TPU, 0, 0)\n"
          ],
          "name": "stdout"
        },
        {
          "output_type": "stream",
          "text": [
            "INFO:tensorflow:*** Available Device: _DeviceAttributes(/job:worker/replica:0/task:0/device:TPU:4, TPU, 0, 0)\n"
          ],
          "name": "stderr"
        },
        {
          "output_type": "stream",
          "text": [
            "INFO:tensorflow:*** Available Device: _DeviceAttributes(/job:worker/replica:0/task:0/device:TPU:5, TPU, 0, 0)\n"
          ],
          "name": "stdout"
        },
        {
          "output_type": "stream",
          "text": [
            "INFO:tensorflow:*** Available Device: _DeviceAttributes(/job:worker/replica:0/task:0/device:TPU:5, TPU, 0, 0)\n"
          ],
          "name": "stderr"
        },
        {
          "output_type": "stream",
          "text": [
            "INFO:tensorflow:*** Available Device: _DeviceAttributes(/job:worker/replica:0/task:0/device:TPU:6, TPU, 0, 0)\n"
          ],
          "name": "stdout"
        },
        {
          "output_type": "stream",
          "text": [
            "INFO:tensorflow:*** Available Device: _DeviceAttributes(/job:worker/replica:0/task:0/device:TPU:6, TPU, 0, 0)\n"
          ],
          "name": "stderr"
        },
        {
          "output_type": "stream",
          "text": [
            "INFO:tensorflow:*** Available Device: _DeviceAttributes(/job:worker/replica:0/task:0/device:TPU:7, TPU, 0, 0)\n"
          ],
          "name": "stdout"
        },
        {
          "output_type": "stream",
          "text": [
            "INFO:tensorflow:*** Available Device: _DeviceAttributes(/job:worker/replica:0/task:0/device:TPU:7, TPU, 0, 0)\n"
          ],
          "name": "stderr"
        },
        {
          "output_type": "stream",
          "text": [
            "INFO:tensorflow:*** Available Device: _DeviceAttributes(/job:worker/replica:0/task:0/device:TPU_SYSTEM:0, TPU_SYSTEM, 0, 0)\n"
          ],
          "name": "stdout"
        },
        {
          "output_type": "stream",
          "text": [
            "INFO:tensorflow:*** Available Device: _DeviceAttributes(/job:worker/replica:0/task:0/device:TPU_SYSTEM:0, TPU_SYSTEM, 0, 0)\n"
          ],
          "name": "stderr"
        },
        {
          "output_type": "stream",
          "text": [
            "INFO:tensorflow:*** Available Device: _DeviceAttributes(/job:worker/replica:0/task:0/device:XLA_CPU:0, XLA_CPU, 0, 0)\n"
          ],
          "name": "stdout"
        },
        {
          "output_type": "stream",
          "text": [
            "INFO:tensorflow:*** Available Device: _DeviceAttributes(/job:worker/replica:0/task:0/device:XLA_CPU:0, XLA_CPU, 0, 0)\n"
          ],
          "name": "stderr"
        }
      ]
    },
    {
      "cell_type": "markdown",
      "metadata": {
        "id": "EJGvKjQU5JWx"
      },
      "source": [
        "**Load Dataset**"
      ]
    },
    {
      "cell_type": "code",
      "metadata": {
        "id": "xd4LRGq8oGiH"
      },
      "source": [
        "dataset = loader.PLDataLoader()"
      ],
      "execution_count": 3,
      "outputs": []
    },
    {
      "cell_type": "markdown",
      "metadata": {
        "id": "8BcNjwp1YdkA"
      },
      "source": [
        "**Create instance of autoencoder with the autoencoder class**"
      ]
    },
    {
      "cell_type": "code",
      "metadata": {
        "id": "bu1wUAJgYjLg"
      },
      "source": [
        "file_name = 'Autoencoder_example.h5'\n",
        "ae = autoencoder(h5_name=file_name)"
      ],
      "execution_count": 4,
      "outputs": []
    },
    {
      "cell_type": "markdown",
      "metadata": {
        "id": "EFVCBVo6YkVh"
      },
      "source": [
        "**Extract Autoencoder/Encoder**\n",
        "\n",
        "This uses autoencoder class train and extract autoencoder/encoder with the .`extract_autoencoder()` method"
      ]
    },
    {
      "cell_type": "code",
      "metadata": {
        "colab": {
          "base_uri": "https://localhost:8080/",
          "height": 1000
        },
        "id": "ew14Ht7P5iW3",
        "outputId": "6a6b349f-6d87-40ae-d82a-1e50f2f5b304"
      },
      "source": [
        "decoded, encoded = ae.extract_autoencoder(optimizer='adam', epochs=100)"
      ],
      "execution_count": 5,
      "outputs": [
        {
          "output_type": "stream",
          "text": [
            "Model: \"model\"\n",
            "_________________________________________________________________\n",
            "Layer (type)                 Output Shape              Param #   \n",
            "=================================================================\n",
            "input_1 (InputLayer)         [(None, 32, 32, 1)]       0         \n",
            "_________________________________________________________________\n",
            "conv2d (Conv2D)              (None, 32, 32, 32)        320       \n",
            "_________________________________________________________________\n",
            "max_pooling2d (MaxPooling2D) (None, 16, 16, 32)        0         \n",
            "_________________________________________________________________\n",
            "conv2d_1 (Conv2D)            (None, 16, 16, 16)        4624      \n",
            "_________________________________________________________________\n",
            "max_pooling2d_1 (MaxPooling2 (None, 8, 8, 16)          0         \n",
            "_________________________________________________________________\n",
            "conv2d_2 (Conv2D)            (None, 8, 8, 8)           1160      \n",
            "_________________________________________________________________\n",
            "max_pooling2d_2 (MaxPooling2 (None, 4, 4, 8)           0         \n",
            "_________________________________________________________________\n",
            "conv2d_3 (Conv2D)            (None, 4, 4, 4)           292       \n",
            "_________________________________________________________________\n",
            "conv2d_4 (Conv2D)            (None, 4, 4, 4)           148       \n",
            "_________________________________________________________________\n",
            "up_sampling2d (UpSampling2D) (None, 8, 8, 4)           0         \n",
            "_________________________________________________________________\n",
            "conv2d_5 (Conv2D)            (None, 8, 8, 8)           296       \n",
            "_________________________________________________________________\n",
            "up_sampling2d_1 (UpSampling2 (None, 16, 16, 8)         0         \n",
            "_________________________________________________________________\n",
            "conv2d_6 (Conv2D)            (None, 16, 16, 16)        1168      \n",
            "_________________________________________________________________\n",
            "up_sampling2d_2 (UpSampling2 (None, 32, 32, 16)        0         \n",
            "_________________________________________________________________\n",
            "conv2d_7 (Conv2D)            (None, 32, 32, 32)        4640      \n",
            "_________________________________________________________________\n",
            "conv2d_8 (Conv2D)            (None, 32, 32, 1)         129       \n",
            "=================================================================\n",
            "Total params: 12,777\n",
            "Trainable params: 12,777\n",
            "Non-trainable params: 0\n",
            "_________________________________________________________________\n",
            "Epoch 1/100\n",
            "7/7 [==============================] - 2s 141ms/step - loss: 0.6929 - val_loss: 0.6911\n",
            "Epoch 2/100\n",
            "7/7 [==============================] - 0s 59ms/step - loss: 0.6901 - val_loss: 0.6827\n",
            "Epoch 3/100\n",
            "7/7 [==============================] - 0s 54ms/step - loss: 0.6808 - val_loss: 0.6627\n",
            "Epoch 4/100\n",
            "7/7 [==============================] - 0s 63ms/step - loss: 0.6637 - val_loss: 0.6432\n",
            "Epoch 5/100\n",
            "7/7 [==============================] - 0s 57ms/step - loss: 0.6462 - val_loss: 0.6355\n",
            "Epoch 6/100\n",
            "7/7 [==============================] - 0s 57ms/step - loss: 0.6365 - val_loss: 0.6290\n",
            "Epoch 7/100\n",
            "7/7 [==============================] - 0s 59ms/step - loss: 0.6301 - val_loss: 0.6218\n",
            "Epoch 8/100\n",
            "7/7 [==============================] - 0s 55ms/step - loss: 0.6235 - val_loss: 0.6173\n",
            "Epoch 9/100\n",
            "7/7 [==============================] - 0s 55ms/step - loss: 0.6219 - val_loss: 0.6146\n",
            "Epoch 10/100\n",
            "7/7 [==============================] - 0s 55ms/step - loss: 0.6119 - val_loss: 0.6126\n",
            "Epoch 11/100\n",
            "7/7 [==============================] - 0s 55ms/step - loss: 0.6141 - val_loss: 0.6108\n",
            "Epoch 12/100\n",
            "7/7 [==============================] - 0s 55ms/step - loss: 0.6098 - val_loss: 0.6094\n",
            "Epoch 13/100\n",
            "7/7 [==============================] - 0s 55ms/step - loss: 0.6110 - val_loss: 0.6083\n",
            "Epoch 14/100\n",
            "7/7 [==============================] - 0s 58ms/step - loss: 0.6125 - val_loss: 0.6075\n",
            "Epoch 15/100\n",
            "7/7 [==============================] - 0s 56ms/step - loss: 0.6050 - val_loss: 0.6083\n",
            "Epoch 16/100\n",
            "7/7 [==============================] - 0s 56ms/step - loss: 0.6077 - val_loss: 0.6069\n",
            "Epoch 17/100\n",
            "7/7 [==============================] - 0s 55ms/step - loss: 0.6075 - val_loss: 0.6061\n",
            "Epoch 18/100\n",
            "7/7 [==============================] - 0s 54ms/step - loss: 0.6059 - val_loss: 0.6059\n",
            "Epoch 19/100\n",
            "7/7 [==============================] - 0s 55ms/step - loss: 0.6053 - val_loss: 0.6063\n",
            "Epoch 20/100\n",
            "7/7 [==============================] - 0s 57ms/step - loss: 0.6006 - val_loss: 0.6057\n",
            "Epoch 21/100\n",
            "7/7 [==============================] - 0s 60ms/step - loss: 0.6069 - val_loss: 0.6051\n",
            "Epoch 22/100\n",
            "7/7 [==============================] - 0s 55ms/step - loss: 0.6072 - val_loss: 0.6050\n",
            "Epoch 23/100\n",
            "7/7 [==============================] - 0s 55ms/step - loss: 0.6092 - val_loss: 0.6056\n",
            "Epoch 24/100\n",
            "7/7 [==============================] - 0s 56ms/step - loss: 0.6075 - val_loss: 0.6045\n",
            "Epoch 25/100\n",
            "7/7 [==============================] - 0s 57ms/step - loss: 0.6040 - val_loss: 0.6043\n",
            "Epoch 26/100\n",
            "7/7 [==============================] - 0s 57ms/step - loss: 0.6080 - val_loss: 0.6041\n",
            "Epoch 27/100\n",
            "7/7 [==============================] - 0s 57ms/step - loss: 0.6079 - val_loss: 0.6049\n",
            "Epoch 28/100\n",
            "7/7 [==============================] - 0s 56ms/step - loss: 0.6044 - val_loss: 0.6038\n",
            "Epoch 29/100\n",
            "7/7 [==============================] - 0s 54ms/step - loss: 0.6045 - val_loss: 0.6037\n",
            "Epoch 30/100\n",
            "7/7 [==============================] - 0s 55ms/step - loss: 0.6023 - val_loss: 0.6038\n",
            "Epoch 31/100\n",
            "7/7 [==============================] - 0s 57ms/step - loss: 0.6040 - val_loss: 0.6035\n",
            "Epoch 32/100\n",
            "7/7 [==============================] - 0s 57ms/step - loss: 0.6073 - val_loss: 0.6035\n",
            "Epoch 33/100\n",
            "7/7 [==============================] - 0s 57ms/step - loss: 0.6049 - val_loss: 0.6033\n",
            "Epoch 34/100\n",
            "7/7 [==============================] - 0s 55ms/step - loss: 0.6033 - val_loss: 0.6034\n",
            "Epoch 35/100\n",
            "7/7 [==============================] - 0s 56ms/step - loss: 0.6044 - val_loss: 0.6031\n",
            "Epoch 36/100\n",
            "7/7 [==============================] - 0s 57ms/step - loss: 0.6041 - val_loss: 0.6030\n",
            "Epoch 37/100\n",
            "7/7 [==============================] - 0s 55ms/step - loss: 0.6041 - val_loss: 0.6029\n",
            "Epoch 38/100\n",
            "7/7 [==============================] - 0s 56ms/step - loss: 0.6002 - val_loss: 0.6028\n",
            "Epoch 39/100\n",
            "7/7 [==============================] - 0s 55ms/step - loss: 0.6010 - val_loss: 0.6029\n",
            "Epoch 40/100\n",
            "7/7 [==============================] - 0s 55ms/step - loss: 0.6030 - val_loss: 0.6026\n",
            "Epoch 41/100\n",
            "7/7 [==============================] - 0s 55ms/step - loss: 0.6038 - val_loss: 0.6028\n",
            "Epoch 42/100\n",
            "7/7 [==============================] - 0s 57ms/step - loss: 0.6013 - val_loss: 0.6030\n",
            "Epoch 43/100\n",
            "7/7 [==============================] - 0s 56ms/step - loss: 0.6001 - val_loss: 0.6030\n",
            "Epoch 44/100\n",
            "7/7 [==============================] - 0s 58ms/step - loss: 0.6020 - val_loss: 0.6030\n",
            "Epoch 45/100\n",
            "7/7 [==============================] - 0s 55ms/step - loss: 0.6047 - val_loss: 0.6022\n",
            "Epoch 46/100\n",
            "7/7 [==============================] - 0s 61ms/step - loss: 0.6042 - val_loss: 0.6021\n",
            "Epoch 47/100\n",
            "7/7 [==============================] - 0s 60ms/step - loss: 0.6046 - val_loss: 0.6032\n",
            "Epoch 48/100\n",
            "7/7 [==============================] - 0s 59ms/step - loss: 0.6038 - val_loss: 0.6025\n",
            "Epoch 49/100\n",
            "7/7 [==============================] - 0s 60ms/step - loss: 0.6047 - val_loss: 0.6019\n",
            "Epoch 50/100\n",
            "7/7 [==============================] - 0s 60ms/step - loss: 0.6043 - val_loss: 0.6018\n",
            "Epoch 51/100\n",
            "7/7 [==============================] - 0s 60ms/step - loss: 0.6051 - val_loss: 0.6018\n",
            "Epoch 52/100\n",
            "7/7 [==============================] - 0s 60ms/step - loss: 0.6009 - val_loss: 0.6020\n",
            "Epoch 53/100\n",
            "7/7 [==============================] - 0s 59ms/step - loss: 0.6028 - val_loss: 0.6019\n",
            "Epoch 54/100\n",
            "7/7 [==============================] - 0s 60ms/step - loss: 0.6073 - val_loss: 0.6016\n",
            "Epoch 55/100\n",
            "7/7 [==============================] - 0s 60ms/step - loss: 0.6035 - val_loss: 0.6015\n",
            "Epoch 56/100\n",
            "7/7 [==============================] - 0s 61ms/step - loss: 0.6011 - val_loss: 0.6019\n",
            "Epoch 57/100\n",
            "7/7 [==============================] - 0s 62ms/step - loss: 0.6021 - val_loss: 0.6013\n",
            "Epoch 58/100\n",
            "7/7 [==============================] - 0s 59ms/step - loss: 0.5958 - val_loss: 0.6013\n",
            "Epoch 59/100\n",
            "7/7 [==============================] - 0s 63ms/step - loss: 0.6017 - val_loss: 0.6014\n",
            "Epoch 60/100\n",
            "7/7 [==============================] - 0s 63ms/step - loss: 0.5997 - val_loss: 0.6012\n",
            "Epoch 61/100\n",
            "7/7 [==============================] - 0s 63ms/step - loss: 0.6062 - val_loss: 0.6016\n",
            "Epoch 62/100\n",
            "7/7 [==============================] - 0s 60ms/step - loss: 0.6003 - val_loss: 0.6018\n",
            "Epoch 63/100\n",
            "7/7 [==============================] - 0s 61ms/step - loss: 0.6030 - val_loss: 0.6016\n",
            "Epoch 64/100\n",
            "7/7 [==============================] - 0s 60ms/step - loss: 0.6016 - val_loss: 0.6016\n",
            "Epoch 65/100\n",
            "7/7 [==============================] - 0s 60ms/step - loss: 0.6032 - val_loss: 0.6018\n",
            "Epoch 66/100\n",
            "7/7 [==============================] - 0s 58ms/step - loss: 0.6028 - val_loss: 0.6016\n",
            "Epoch 67/100\n",
            "7/7 [==============================] - 0s 59ms/step - loss: 0.5997 - val_loss: 0.6011\n",
            "Epoch 68/100\n",
            "7/7 [==============================] - 0s 61ms/step - loss: 0.6024 - val_loss: 0.6010\n",
            "Epoch 69/100\n",
            "7/7 [==============================] - 0s 61ms/step - loss: 0.6051 - val_loss: 0.6012\n",
            "Epoch 70/100\n",
            "7/7 [==============================] - 0s 54ms/step - loss: 0.6028 - val_loss: 0.6012\n",
            "Epoch 71/100\n",
            "7/7 [==============================] - 0s 60ms/step - loss: 0.6010 - val_loss: 0.6010\n",
            "Epoch 72/100\n",
            "7/7 [==============================] - 0s 63ms/step - loss: 0.6048 - val_loss: 0.6009\n",
            "Epoch 73/100\n",
            "7/7 [==============================] - 0s 61ms/step - loss: 0.6018 - val_loss: 0.6010\n",
            "Epoch 74/100\n",
            "7/7 [==============================] - 0s 61ms/step - loss: 0.5987 - val_loss: 0.6012\n",
            "Epoch 75/100\n",
            "7/7 [==============================] - 0s 56ms/step - loss: 0.6017 - val_loss: 0.6009\n",
            "Epoch 76/100\n",
            "7/7 [==============================] - 0s 56ms/step - loss: 0.6015 - val_loss: 0.6008\n",
            "Epoch 77/100\n",
            "7/7 [==============================] - 0s 57ms/step - loss: 0.6005 - val_loss: 0.6009\n",
            "Epoch 78/100\n",
            "7/7 [==============================] - 0s 56ms/step - loss: 0.6018 - val_loss: 0.6008\n",
            "Epoch 79/100\n",
            "7/7 [==============================] - 0s 56ms/step - loss: 0.5962 - val_loss: 0.6009\n",
            "Epoch 80/100\n",
            "7/7 [==============================] - 0s 56ms/step - loss: 0.6005 - val_loss: 0.6007\n",
            "Epoch 81/100\n",
            "7/7 [==============================] - 0s 55ms/step - loss: 0.6045 - val_loss: 0.6007\n",
            "Epoch 82/100\n",
            "7/7 [==============================] - 0s 56ms/step - loss: 0.6018 - val_loss: 0.6009\n",
            "Epoch 83/100\n",
            "7/7 [==============================] - 0s 55ms/step - loss: 0.5976 - val_loss: 0.6007\n",
            "Epoch 84/100\n",
            "7/7 [==============================] - 0s 55ms/step - loss: 0.6033 - val_loss: 0.6006\n",
            "Epoch 85/100\n",
            "7/7 [==============================] - 0s 56ms/step - loss: 0.6056 - val_loss: 0.6011\n",
            "Epoch 86/100\n",
            "7/7 [==============================] - 0s 58ms/step - loss: 0.6016 - val_loss: 0.6006\n",
            "Epoch 87/100\n",
            "7/7 [==============================] - 0s 56ms/step - loss: 0.6003 - val_loss: 0.6006\n",
            "Epoch 88/100\n",
            "7/7 [==============================] - 0s 59ms/step - loss: 0.6035 - val_loss: 0.6007\n",
            "Epoch 89/100\n",
            "7/7 [==============================] - 0s 55ms/step - loss: 0.6037 - val_loss: 0.6006\n",
            "Epoch 90/100\n",
            "7/7 [==============================] - 0s 56ms/step - loss: 0.6057 - val_loss: 0.6007\n",
            "Epoch 91/100\n",
            "7/7 [==============================] - 0s 56ms/step - loss: 0.5985 - val_loss: 0.6005\n",
            "Epoch 92/100\n",
            "7/7 [==============================] - 0s 56ms/step - loss: 0.6023 - val_loss: 0.6005\n",
            "Epoch 93/100\n",
            "7/7 [==============================] - 0s 55ms/step - loss: 0.6021 - val_loss: 0.6007\n",
            "Epoch 94/100\n",
            "7/7 [==============================] - 0s 56ms/step - loss: 0.5999 - val_loss: 0.6005\n",
            "Epoch 95/100\n",
            "7/7 [==============================] - 0s 56ms/step - loss: 0.5987 - val_loss: 0.6005\n",
            "Epoch 96/100\n",
            "7/7 [==============================] - 0s 55ms/step - loss: 0.6006 - val_loss: 0.6005\n",
            "Epoch 97/100\n",
            "7/7 [==============================] - 0s 56ms/step - loss: 0.6028 - val_loss: 0.6005\n",
            "Epoch 98/100\n",
            "7/7 [==============================] - 0s 55ms/step - loss: 0.6000 - val_loss: 0.6010\n",
            "Epoch 99/100\n",
            "7/7 [==============================] - 0s 57ms/step - loss: 0.6017 - val_loss: 0.6005\n",
            "Epoch 100/100\n",
            "7/7 [==============================] - 0s 55ms/step - loss: 0.6000 - val_loss: 0.6006\n"
          ],
          "name": "stdout"
        },
        {
          "output_type": "display_data",
          "data": {
            "image/png": "[encoded data removed]",
            "text/plain": [
              "<Figure size 432x288 with 1 Axes>"
            ]
          },
          "metadata": {
            "tags": [],
            "needs_background": "light"
          }
        }
      ]
    },
    {
      "cell_type": "markdown",
      "metadata": {
        "id": "_tEg-3SIycwV"
      },
      "source": [
        "**Normalize the data**"
      ]
    },
    {
      "cell_type": "code",
      "metadata": {
        "id": "5QGEAc9j3QIh"
      },
      "source": [
        "X_train = dataset.X / dataset.X.max() #Normalize data"
      ],
      "execution_count": 6,
      "outputs": []
    },
    {
      "cell_type": "markdown",
      "metadata": {
        "id": "QKCG0HkmLmtX"
      },
      "source": [
        "**Visualize the autoencoder**\n"
      ]
    },
    {
      "cell_type": "code",
      "metadata": {
        "colab": {
          "base_uri": "https://localhost:8080/",
          "height": 199
        },
        "id": "0tWUHgyhvWa5",
        "outputId": "c33d255e-331a-48b0-b413-979f6f8df1da"
      },
      "source": [
        "autoencoded_imgs = decoded.predict(X_train)\n",
        "\n",
        "n = 9 \n",
        "plt.figure(figsize=(20, 4))\n",
        "for i in range(1, n + 1):\n",
        "    # Display original\n",
        "    ax = plt.subplot(2, n, i)\n",
        "    plt.imshow(X_train[i].reshape(32, 32))\n",
        "    plt.gray()\n",
        "    ax.get_xaxis().set_visible(False)\n",
        "    ax.get_yaxis().set_visible(False)\n",
        "\n",
        "    # Display reconstruction\n",
        "    ax = plt.subplot(2, n, i + n)\n",
        "    plt.imshow(autoencoded_imgs[i].reshape(32,32))\n",
        "    plt.gray()\n",
        "    ax.get_xaxis().set_visible(False)\n",
        "    ax.get_yaxis().set_visible(False)\n",
        "plt.show() "
      ],
      "execution_count": 7,
      "outputs": [
        {
          "output_type": "display_data",
          "data": {
            "image/png": "[encoded data removed]",
            "text/plain": [
              "<Figure size 1440x288 with 18 Axes>"
            ]
          },
          "metadata": {
            "tags": [],
            "needs_background": "light"
          }
        }
      ]
    },
    {
      "cell_type": "markdown",
      "metadata": {
        "id": "0FpmrCMNykKQ"
      },
      "source": [
        "**We can also load weights from previous model if we don't want to train another one**"
      ]
    },
    {
      "cell_type": "code",
      "metadata": {
        "id": "TG8B25bMql2S"
      },
      "source": [
        "decoder_shell, encoder_shell = ae.build_autoencoder()\n",
        "decoder_shell.load_weights('/content/drive/Shareddrives/Perovskites_DIRECT/models/autoencoder_model/jasonlikespickles.h5')\n",
        "\n",
        "encoder_path = '/content/drive/Shareddrives/Perovskites_DIRECT/models/encoder_model/jasonlikespickles.h5'\n",
        "encoder_shell.load_weights(encoder_path)"
      ],
      "execution_count": 8,
      "outputs": []
    },
    {
      "cell_type": "code",
      "metadata": {
        "id": "m3B1NKDlIMre",
        "colab": {
          "base_uri": "https://localhost:8080/",
          "height": 199
        },
        "outputId": "213185c7-dc11-4875-d127-cc533a3442fb"
      },
      "source": [
        "autoencoded_imgs = decoder_shell.predict(X_train)\n",
        "\n",
        "n = 9 \n",
        "plt.figure(figsize=(20, 4))\n",
        "for i in range(1, n + 1):\n",
        "    # Display original\n",
        "    ax = plt.subplot(2, n, i)\n",
        "    plt.imshow(X_train[i].reshape(32, 32))\n",
        "    plt.gray()\n",
        "    ax.get_xaxis().set_visible(False)\n",
        "    ax.get_yaxis().set_visible(False)\n",
        "\n",
        "    # Display reconstruction\n",
        "    ax = plt.subplot(2, n, i + n)\n",
        "    plt.imshow(autoencoded_imgs[i].reshape(32,32))\n",
        "    plt.gray()\n",
        "    ax.get_xaxis().set_visible(False)\n",
        "    ax.get_yaxis().set_visible(False)\n",
        "plt.show()"
      ],
      "execution_count": 9,
      "outputs": [
        {
          "output_type": "display_data",
          "data": {
            "image/png": "[encoded data removed]",
            "text/plain": [
              "<Figure size 1440x288 with 18 Axes>"
            ]
          },
          "metadata": {
            "tags": [],
            "needs_background": "light"
          }
        }
      ]
    },
    {
      "cell_type": "code",
      "metadata": {
        "colab": {
          "base_uri": "https://localhost:8080/",
          "height": 113
        },
        "id": "nPaVuHosRrCg",
        "outputId": "2237a917-0e68-47a9-c77f-dd58301a7085"
      },
      "source": [
        "encoded_imgs = encoder_shell.predict(X_train)\n",
        "n = 9 \n",
        "plt.figure(figsize=(20, 4))\n",
        "for i in range(1, n + 1):\n",
        "    # Display reconstruction\n",
        "    ax = plt.subplot(2, n, i + n)\n",
        "    plt.imshow(encoded_imgs[i].reshape(4*4, 4))\n",
        "    plt.gray()\n",
        "    ax.get_xaxis().set_visible(False)\n",
        "    ax.get_yaxis().set_visible(False)\n",
        "plt.show()"
      ],
      "execution_count": 10,
      "outputs": [
        {
          "output_type": "display_data",
          "data": {
            "image/png": "[encoded data removed]",
            "text/plain": [
              "<Figure size 1440x288 with 9 Axes>"
            ]
          },
          "metadata": {
            "tags": [],
            "needs_background": "light"
          }
        }
      ]
    },
    {
      "cell_type": "markdown",
      "metadata": {
        "id": "yDcZdFjVa-jQ"
      },
      "source": [
        "**This class can also be used to retrieve the classification output to run through a linear regression**"
      ]
    },
    {
      "cell_type": "code",
      "metadata": {
        "id": "gKaqrHsIU3Fa",
        "colab": {
          "base_uri": "https://localhost:8080/",
          "height": 1000
        },
        "outputId": "c5cbe2e4-bed2-4809-f7bb-00801cb6e626"
      },
      "source": [
        "lin_reg_return = ae.autoencoder_to_classification()"
      ],
      "execution_count": 15,
      "outputs": [
        {
          "output_type": "stream",
          "text": [
            "Model: \"model_6\"\n",
            "_________________________________________________________________\n",
            "Layer (type)                 Output Shape              Param #   \n",
            "=================================================================\n",
            "input_4 (InputLayer)         [(None, 32, 32, 1)]       0         \n",
            "_________________________________________________________________\n",
            "conv2d_27 (Conv2D)           (None, 32, 32, 32)        320       \n",
            "_________________________________________________________________\n",
            "max_pooling2d_9 (MaxPooling2 (None, 16, 16, 32)        0         \n",
            "_________________________________________________________________\n",
            "conv2d_28 (Conv2D)           (None, 16, 16, 16)        4624      \n",
            "_________________________________________________________________\n",
            "max_pooling2d_10 (MaxPooling (None, 8, 8, 16)          0         \n",
            "_________________________________________________________________\n",
            "conv2d_29 (Conv2D)           (None, 8, 8, 8)           1160      \n",
            "_________________________________________________________________\n",
            "max_pooling2d_11 (MaxPooling (None, 4, 4, 8)           0         \n",
            "_________________________________________________________________\n",
            "conv2d_30 (Conv2D)           (None, 4, 4, 4)           292       \n",
            "_________________________________________________________________\n",
            "conv2d_31 (Conv2D)           (None, 4, 4, 4)           148       \n",
            "_________________________________________________________________\n",
            "up_sampling2d_9 (UpSampling2 (None, 8, 8, 4)           0         \n",
            "_________________________________________________________________\n",
            "conv2d_32 (Conv2D)           (None, 8, 8, 8)           296       \n",
            "_________________________________________________________________\n",
            "up_sampling2d_10 (UpSampling (None, 16, 16, 8)         0         \n",
            "_________________________________________________________________\n",
            "conv2d_33 (Conv2D)           (None, 16, 16, 16)        1168      \n",
            "_________________________________________________________________\n",
            "up_sampling2d_11 (UpSampling (None, 32, 32, 16)        0         \n",
            "_________________________________________________________________\n",
            "conv2d_34 (Conv2D)           (None, 32, 32, 32)        4640      \n",
            "_________________________________________________________________\n",
            "conv2d_35 (Conv2D)           (None, 32, 32, 1)         129       \n",
            "=================================================================\n",
            "Total params: 12,777\n",
            "Trainable params: 12,777\n",
            "Non-trainable params: 0\n",
            "_________________________________________________________________\n",
            "Epoch 1/100\n",
            "7/7 [==============================] - 1s 88ms/step - loss: 0.6921 - val_loss: 0.6848\n",
            "Epoch 2/100\n",
            "7/7 [==============================] - 0s 56ms/step - loss: 0.6843 - val_loss: 0.6697\n",
            "Epoch 3/100\n",
            "7/7 [==============================] - 0s 57ms/step - loss: 0.6732 - val_loss: 0.6576\n",
            "Epoch 4/100\n",
            "7/7 [==============================] - 0s 56ms/step - loss: 0.6616 - val_loss: 0.6471\n",
            "Epoch 5/100\n",
            "7/7 [==============================] - 0s 60ms/step - loss: 0.6521 - val_loss: 0.6430\n",
            "Epoch 6/100\n",
            "7/7 [==============================] - 0s 56ms/step - loss: 0.6472 - val_loss: 0.6354\n",
            "Epoch 7/100\n",
            "7/7 [==============================] - 0s 54ms/step - loss: 0.6389 - val_loss: 0.6281\n",
            "Epoch 8/100\n",
            "7/7 [==============================] - 0s 57ms/step - loss: 0.6296 - val_loss: 0.6209\n",
            "Epoch 9/100\n",
            "7/7 [==============================] - 0s 55ms/step - loss: 0.6209 - val_loss: 0.6157\n",
            "Epoch 10/100\n",
            "7/7 [==============================] - 0s 55ms/step - loss: 0.6152 - val_loss: 0.6127\n",
            "Epoch 11/100\n",
            "7/7 [==============================] - 0s 55ms/step - loss: 0.6151 - val_loss: 0.6113\n",
            "Epoch 12/100\n",
            "7/7 [==============================] - 0s 55ms/step - loss: 0.6129 - val_loss: 0.6100\n",
            "Epoch 13/100\n",
            "7/7 [==============================] - 0s 55ms/step - loss: 0.6114 - val_loss: 0.6097\n",
            "Epoch 14/100\n",
            "7/7 [==============================] - 0s 55ms/step - loss: 0.6080 - val_loss: 0.6090\n",
            "Epoch 15/100\n",
            "7/7 [==============================] - 0s 58ms/step - loss: 0.6055 - val_loss: 0.6079\n",
            "Epoch 16/100\n",
            "7/7 [==============================] - 0s 58ms/step - loss: 0.6025 - val_loss: 0.6074\n",
            "Epoch 17/100\n",
            "7/7 [==============================] - 0s 56ms/step - loss: 0.6094 - val_loss: 0.6075\n",
            "Epoch 18/100\n",
            "7/7 [==============================] - 0s 56ms/step - loss: 0.6085 - val_loss: 0.6065\n",
            "Epoch 19/100\n",
            "7/7 [==============================] - 0s 56ms/step - loss: 0.6085 - val_loss: 0.6064\n",
            "Epoch 20/100\n",
            "7/7 [==============================] - 0s 55ms/step - loss: 0.6066 - val_loss: 0.6059\n",
            "Epoch 21/100\n",
            "7/7 [==============================] - 0s 55ms/step - loss: 0.6045 - val_loss: 0.6052\n",
            "Epoch 22/100\n",
            "7/7 [==============================] - 0s 58ms/step - loss: 0.6056 - val_loss: 0.6054\n",
            "Epoch 23/100\n",
            "7/7 [==============================] - 0s 65ms/step - loss: 0.6015 - val_loss: 0.6049\n",
            "Epoch 24/100\n",
            "7/7 [==============================] - 0s 57ms/step - loss: 0.6049 - val_loss: 0.6041\n",
            "Epoch 25/100\n",
            "7/7 [==============================] - 0s 55ms/step - loss: 0.6033 - val_loss: 0.6040\n",
            "Epoch 26/100\n",
            "7/7 [==============================] - 0s 56ms/step - loss: 0.6103 - val_loss: 0.6046\n",
            "Epoch 27/100\n",
            "7/7 [==============================] - 0s 57ms/step - loss: 0.6053 - val_loss: 0.6036\n",
            "Epoch 28/100\n",
            "7/7 [==============================] - 0s 57ms/step - loss: 0.6068 - val_loss: 0.6034\n",
            "Epoch 29/100\n",
            "7/7 [==============================] - 0s 57ms/step - loss: 0.6037 - val_loss: 0.6034\n",
            "Epoch 30/100\n",
            "7/7 [==============================] - 0s 56ms/step - loss: 0.6020 - val_loss: 0.6038\n",
            "Epoch 31/100\n",
            "7/7 [==============================] - 0s 58ms/step - loss: 0.6050 - val_loss: 0.6029\n",
            "Epoch 32/100\n",
            "7/7 [==============================] - 0s 56ms/step - loss: 0.6022 - val_loss: 0.6029\n",
            "Epoch 33/100\n",
            "7/7 [==============================] - 0s 55ms/step - loss: 0.6036 - val_loss: 0.6026\n",
            "Epoch 34/100\n",
            "7/7 [==============================] - 0s 55ms/step - loss: 0.6022 - val_loss: 0.6025\n",
            "Epoch 35/100\n",
            "7/7 [==============================] - 0s 56ms/step - loss: 0.6029 - val_loss: 0.6024\n",
            "Epoch 36/100\n",
            "7/7 [==============================] - 0s 54ms/step - loss: 0.6040 - val_loss: 0.6026\n",
            "Epoch 37/100\n",
            "7/7 [==============================] - 0s 56ms/step - loss: 0.6024 - val_loss: 0.6026\n",
            "Epoch 38/100\n",
            "7/7 [==============================] - 0s 56ms/step - loss: 0.6020 - val_loss: 0.6023\n",
            "Epoch 39/100\n",
            "7/7 [==============================] - 0s 56ms/step - loss: 0.6022 - val_loss: 0.6026\n",
            "Epoch 40/100\n",
            "7/7 [==============================] - 0s 57ms/step - loss: 0.6056 - val_loss: 0.6023\n",
            "Epoch 41/100\n",
            "7/7 [==============================] - 0s 56ms/step - loss: 0.6043 - val_loss: 0.6021\n",
            "Epoch 42/100\n",
            "7/7 [==============================] - 0s 57ms/step - loss: 0.6012 - val_loss: 0.6023\n",
            "Epoch 43/100\n",
            "7/7 [==============================] - 0s 55ms/step - loss: 0.6044 - val_loss: 0.6019\n",
            "Epoch 44/100\n",
            "7/7 [==============================] - 0s 56ms/step - loss: 0.6045 - val_loss: 0.6018\n",
            "Epoch 45/100\n",
            "7/7 [==============================] - 0s 56ms/step - loss: 0.6031 - val_loss: 0.6018\n",
            "Epoch 46/100\n",
            "7/7 [==============================] - 0s 55ms/step - loss: 0.6060 - val_loss: 0.6017\n",
            "Epoch 47/100\n",
            "7/7 [==============================] - 0s 57ms/step - loss: 0.6014 - val_loss: 0.6016\n",
            "Epoch 48/100\n",
            "7/7 [==============================] - 0s 57ms/step - loss: 0.6021 - val_loss: 0.6015\n",
            "Epoch 49/100\n",
            "7/7 [==============================] - 0s 59ms/step - loss: 0.5993 - val_loss: 0.6042\n",
            "Epoch 50/100\n",
            "7/7 [==============================] - 0s 56ms/step - loss: 0.6004 - val_loss: 0.6016\n",
            "Epoch 51/100\n",
            "7/7 [==============================] - 0s 56ms/step - loss: 0.6054 - val_loss: 0.6017\n",
            "Epoch 52/100\n",
            "7/7 [==============================] - 0s 57ms/step - loss: 0.6083 - val_loss: 0.6024\n",
            "Epoch 53/100\n",
            "7/7 [==============================] - 0s 55ms/step - loss: 0.6070 - val_loss: 0.6018\n",
            "Epoch 54/100\n",
            "7/7 [==============================] - 0s 56ms/step - loss: 0.6062 - val_loss: 0.6013\n",
            "Epoch 55/100\n",
            "7/7 [==============================] - 0s 58ms/step - loss: 0.6030 - val_loss: 0.6013\n",
            "Epoch 56/100\n",
            "7/7 [==============================] - 0s 55ms/step - loss: 0.6002 - val_loss: 0.6012\n",
            "Epoch 57/100\n",
            "7/7 [==============================] - 0s 55ms/step - loss: 0.6033 - val_loss: 0.6013\n",
            "Epoch 58/100\n",
            "7/7 [==============================] - 0s 54ms/step - loss: 0.6049 - val_loss: 0.6012\n",
            "Epoch 59/100\n",
            "7/7 [==============================] - 0s 55ms/step - loss: 0.6040 - val_loss: 0.6012\n",
            "Epoch 60/100\n",
            "7/7 [==============================] - 0s 54ms/step - loss: 0.6005 - val_loss: 0.6011\n",
            "Epoch 61/100\n",
            "7/7 [==============================] - 0s 55ms/step - loss: 0.5987 - val_loss: 0.6011\n",
            "Epoch 62/100\n",
            "7/7 [==============================] - 0s 55ms/step - loss: 0.6053 - val_loss: 0.6010\n",
            "Epoch 63/100\n",
            "7/7 [==============================] - 0s 57ms/step - loss: 0.6034 - val_loss: 0.6010\n",
            "Epoch 64/100\n",
            "7/7 [==============================] - 0s 57ms/step - loss: 0.6020 - val_loss: 0.6010\n",
            "Epoch 65/100\n",
            "7/7 [==============================] - 0s 57ms/step - loss: 0.6049 - val_loss: 0.6010\n",
            "Epoch 66/100\n",
            "7/7 [==============================] - 0s 55ms/step - loss: 0.6014 - val_loss: 0.6011\n",
            "Epoch 67/100\n",
            "7/7 [==============================] - 0s 57ms/step - loss: 0.6036 - val_loss: 0.6008\n",
            "Epoch 68/100\n",
            "7/7 [==============================] - 0s 56ms/step - loss: 0.5972 - val_loss: 0.6008\n",
            "Epoch 69/100\n",
            "7/7 [==============================] - 0s 57ms/step - loss: 0.6013 - val_loss: 0.6009\n",
            "Epoch 70/100\n",
            "7/7 [==============================] - 0s 57ms/step - loss: 0.6029 - val_loss: 0.6008\n",
            "Epoch 71/100\n",
            "7/7 [==============================] - 0s 57ms/step - loss: 0.6016 - val_loss: 0.6008\n",
            "Epoch 72/100\n",
            "7/7 [==============================] - 0s 56ms/step - loss: 0.6028 - val_loss: 0.6007\n",
            "Epoch 73/100\n",
            "7/7 [==============================] - 0s 56ms/step - loss: 0.6004 - val_loss: 0.6012\n",
            "Epoch 74/100\n",
            "7/7 [==============================] - 0s 55ms/step - loss: 0.6023 - val_loss: 0.6008\n",
            "Epoch 75/100\n",
            "7/7 [==============================] - 0s 57ms/step - loss: 0.6007 - val_loss: 0.6009\n",
            "Epoch 76/100\n",
            "7/7 [==============================] - 0s 57ms/step - loss: 0.6035 - val_loss: 0.6006\n",
            "Epoch 77/100\n",
            "7/7 [==============================] - 0s 57ms/step - loss: 0.6007 - val_loss: 0.6006\n",
            "Epoch 78/100\n",
            "7/7 [==============================] - 0s 59ms/step - loss: 0.6021 - val_loss: 0.6006\n",
            "Epoch 79/100\n",
            "7/7 [==============================] - 0s 56ms/step - loss: 0.5996 - val_loss: 0.6005\n",
            "Epoch 80/100\n",
            "7/7 [==============================] - 0s 57ms/step - loss: 0.6035 - val_loss: 0.6006\n",
            "Epoch 81/100\n",
            "7/7 [==============================] - 0s 56ms/step - loss: 0.6003 - val_loss: 0.6005\n",
            "Epoch 82/100\n",
            "7/7 [==============================] - 0s 57ms/step - loss: 0.6032 - val_loss: 0.6005\n",
            "Epoch 83/100\n",
            "7/7 [==============================] - 0s 55ms/step - loss: 0.5991 - val_loss: 0.6004\n",
            "Epoch 84/100\n",
            "7/7 [==============================] - 0s 61ms/step - loss: 0.5999 - val_loss: 0.6008\n",
            "Epoch 85/100\n",
            "7/7 [==============================] - 0s 56ms/step - loss: 0.6029 - val_loss: 0.6007\n",
            "Epoch 86/100\n",
            "7/7 [==============================] - 0s 56ms/step - loss: 0.5998 - val_loss: 0.6004\n",
            "Epoch 87/100\n",
            "7/7 [==============================] - 0s 54ms/step - loss: 0.6032 - val_loss: 0.6005\n",
            "Epoch 88/100\n",
            "7/7 [==============================] - 0s 56ms/step - loss: 0.6034 - val_loss: 0.6006\n",
            "Epoch 89/100\n",
            "7/7 [==============================] - 0s 58ms/step - loss: 0.6008 - val_loss: 0.6007\n",
            "Epoch 90/100\n",
            "7/7 [==============================] - 0s 56ms/step - loss: 0.5991 - val_loss: 0.6004\n",
            "Epoch 91/100\n",
            "7/7 [==============================] - 0s 56ms/step - loss: 0.5991 - val_loss: 0.6004\n",
            "Epoch 92/100\n",
            "7/7 [==============================] - 0s 55ms/step - loss: 0.6011 - val_loss: 0.6004\n",
            "Epoch 93/100\n",
            "7/7 [==============================] - 0s 57ms/step - loss: 0.6046 - val_loss: 0.6003\n",
            "Epoch 94/100\n",
            "7/7 [==============================] - 0s 59ms/step - loss: 0.6039 - val_loss: 0.6004\n",
            "Epoch 95/100\n",
            "7/7 [==============================] - 0s 60ms/step - loss: 0.6009 - val_loss: 0.6007\n",
            "Epoch 96/100\n",
            "7/7 [==============================] - 0s 59ms/step - loss: 0.5979 - val_loss: 0.6013\n",
            "Epoch 97/100\n",
            "7/7 [==============================] - 0s 55ms/step - loss: 0.6021 - val_loss: 0.6014\n",
            "Epoch 98/100\n",
            "7/7 [==============================] - 0s 56ms/step - loss: 0.6011 - val_loss: 0.6005\n",
            "Epoch 99/100\n",
            "7/7 [==============================] - 0s 59ms/step - loss: 0.5988 - val_loss: 0.6003\n",
            "Epoch 100/100\n",
            "7/7 [==============================] - 0s 56ms/step - loss: 0.6034 - val_loss: 0.6005\n"
          ],
          "name": "stdout"
        },
        {
          "output_type": "display_data",
          "data": {
            "image/png": "[encoded data removed]",
            "text/plain": [
              "<Figure size 432x288 with 1 Axes>"
            ]
          },
          "metadata": {
            "tags": [],
            "needs_background": "light"
          }
        }
      ]
    },
    {
      "cell_type": "code",
      "metadata": {
        "id": "UAkJ-DGDeB33"
      },
      "source": [
        ""
      ],
      "execution_count": null,
      "outputs": []
    }
  ]
}